{
  "nbformat": 4,
  "nbformat_minor": 0,
  "metadata": {
    "colab": {
      "provenance": [],
      "authorship_tag": "ABX9TyMCYq+tdNjSCqsaSlstfXLM",
      "include_colab_link": true
    },
    "kernelspec": {
      "name": "python3",
      "display_name": "Python 3"
    },
    "language_info": {
      "name": "python"
    }
  },
  "cells": [
    {
      "cell_type": "markdown",
      "metadata": {
        "id": "view-in-github",
        "colab_type": "text"
      },
      "source": [
        "<a href=\"https://colab.research.google.com/github/uapej/DA3/blob/main/TIM50_Jaden_Assignment3.ipynb\" target=\"_parent\"><img src=\"https://colab.research.google.com/assets/colab-badge.svg\" alt=\"Open In Colab\"/></a>"
      ]
    },
    {
      "cell_type": "code",
      "execution_count": 1,
      "metadata": {
        "id": "Dt2z_wucEwX1"
      },
      "outputs": [],
      "source": [
        "# Imports and sets everything up\n",
        "import sqlalchemy\n",
        "engine = sqlalchemy.create_engine('sqlite:///myDB')\n",
        "con = engine.raw_connection()\n",
        "cursor = con.cursor()"
      ]
    },
    {
      "cell_type": "code",
      "source": [
        "# creates flight table\n",
        "q = \"\"\"CREATE TABLE IF NOT EXISTS flights\n",
        "(Depart_Time TEXT, Origin TEXT, Arrival_Time TEXT, Destination\n",
        "TEXT, Flight TEXT, Aircraft TEXT, Stops TEXT, hours INTEGER,\n",
        "minutes INTEGER, duration REAL, codeshare INTEGER,\n",
        "PRIMARY KEY(Depart_Time, Flight));\"\"\"\n",
        "\n",
        "cursor.execute(q)\n",
        "\n",
        "con.commit()"
      ],
      "metadata": {
        "id": "Lfq2LAZnFmmI"
      },
      "execution_count": 2,
      "outputs": []
    },
    {
      "cell_type": "code",
      "source": [
        "# creates aircraft table\n",
        "q = \"\"\"CREATE TABLE aircrafts(Aircraft TEXT, Seats INT,\n",
        "PRIMARY KEY(Aircraft));\"\"\"\n",
        "cursor.execute(q)\n",
        "con.commit()"
      ],
      "metadata": {
        "id": "wcG4pNTHHNqT"
      },
      "execution_count": 11,
      "outputs": []
    },
    {
      "cell_type": "code",
      "source": [
        "# import to transfer data to table\n",
        "import pandas as pd"
      ],
      "metadata": {
        "id": "o3PxseKIIVbU"
      },
      "execution_count": 7,
      "outputs": []
    },
    {
      "cell_type": "code",
      "source": [
        "# transferring data to table\n",
        "data = pd.read_csv('flights-2.csv')\n",
        "data.to_sql('flights', con, if_exists='append', index=False)"
      ],
      "metadata": {
        "id": "hpfynO_8IY7q"
      },
      "execution_count": 8,
      "outputs": []
    },
    {
      "cell_type": "code",
      "source": [
        "# transfers data to table\n",
        "data = pd.read_csv('aircrafts.csv')\n",
        "data.to_sql('aircrafts', con, if_exists='append', index=False)"
      ],
      "metadata": {
        "id": "R-1fBfnlI9W5"
      },
      "execution_count": 12,
      "outputs": []
    },
    {
      "cell_type": "code",
      "source": [
        "# drops flight table to create my own primary key\n",
        "q = \"DROP TABLE IF EXISTS flights;\"\n",
        "cursor.execute(q)\n",
        "con.commit()"
      ],
      "metadata": {
        "id": "AeX-mEZBLQXe"
      },
      "execution_count": 13,
      "outputs": []
    },
    {
      "cell_type": "code",
      "source": [
        "# creates table with my own primary key\n",
        "q = \"\"\"CREATE TABLE IF NOT EXISTS flights\n",
        "(Depart_Time TEXT, Origin TEXT, Arrival_Time TEXT, Destination\n",
        "TEXT, Flight TEXT, Aircraft TEXT, Stops TEXT, hours INTEGER,\n",
        "minutes INTEGER, duration REAL, codeshare INTEGER,\n",
        "PRIMARY KEY(Origin, Flight));\"\"\"\n",
        "cursor.execute(q)\n",
        "con.commit()"
      ],
      "metadata": {
        "id": "3c7ae1gILjh4"
      },
      "execution_count": 28,
      "outputs": []
    },
    {
      "cell_type": "code",
      "source": [
        "# transferring data to table\n",
        "data = pd.read_csv('flights-2.csv')\n",
        "data.to_sql('flights', con, if_exists='append', index=False)"
      ],
      "metadata": {
        "id": "HaBcvzhNNRgX"
      },
      "execution_count": 29,
      "outputs": []
    },
    {
      "cell_type": "code",
      "source": [
        "# displays top 8 rows from flights that are from origin aiport \"BOS\"\n",
        "# presents them in ascending order\n",
        "q = '''SELECT * FROM flights WHERE Origin = 'BOS' ORDER BY Depart_Time ASC LIMIT 8;'''\n",
        "for row in cursor.execute(q): print(row)"
      ],
      "metadata": {
        "colab": {
          "base_uri": "https://localhost:8080/"
        },
        "id": "BxURhWedQIGI",
        "outputId": "496a4380-7087-455d-d206-e0e728443478"
      },
      "execution_count": 34,
      "outputs": [
        {
          "output_type": "stream",
          "name": "stdout",
          "text": [
            "('11:04', 'BOS', '14:39', 'SFO', 'NZ 9507 ', '752', 'Non-Stop', 6, 35, 6.58, 1)\n",
            "('11:04', 'BOS', '14:39', 'SFO', 'UA 177 ', '752', 'Non-Stop', 6, 35, 6.58, None)\n",
            "('11:04', 'BOS', '14:39', 'SFO', 'US 6337 ', '752', 'Non-Stop', 6, 35, 6.58, 1)\n",
            "('17:58', 'BOS', '21:28', 'SFO', 'NZ 9509 ', '752', 'Non-Stop', 6, 30, 6.5, 1)\n",
            "('17:58', 'BOS', '21:28', 'SFO', 'UA 179 ', '752', 'Non-Stop', 6, 30, 6.5, None)\n",
            "('17:58', 'BOS', '21:28', 'SFO', 'US 6339 ', '752', 'Non-Stop', 6, 30, 6.5, 1)\n",
            "('19:30', 'BOS', '23:05', 'SFO', 'AA 197 ', '757', 'Non-Stop', 6, 35, 6.58, None)\n",
            "('19:30', 'BOS', '23:05', 'SFO', 'AS 1080 ', '757', 'Non-Stop', 6, 35, 6.58, 1)\n"
          ]
        }
      ]
    },
    {
      "cell_type": "code",
      "source": [
        "# displays top 8 rows from flights that are from origin aiport \"BOS\"\n",
        "# presents them in descending order\n",
        "q = '''SELECT * FROM flights WHERE Origin = 'BOS' ORDER BY Depart_Time DESC LIMIT 8;'''\n",
        "for row in cursor.execute(q): print(row)"
      ],
      "metadata": {
        "colab": {
          "base_uri": "https://localhost:8080/"
        },
        "id": "-kysvZo1Rhr4",
        "outputId": "a9e863b7-f35d-4eaa-d936-baa1c41ecbb2"
      },
      "execution_count": 35,
      "outputs": [
        {
          "output_type": "stream",
          "name": "stdout",
          "text": [
            "('9:30', 'BOS', '15:12', 'SFO', 'UA 217 ', '752', '1', 8, 42, 8.7, None)\n",
            "('8:40', 'BOS', '12:15', 'SFO', 'AA 183 ', '757', 'Non-Stop', 6, 35, 6.58, None)\n",
            "('8:40', 'BOS', '12:15', 'SFO', 'AS 1269 ', '757', 'Non-Stop', 6, 35, 6.58, 1)\n",
            "('8:40', 'BOS', '12:15', 'SFO', 'QF 3016 ', '757', 'Non-Stop', 6, 35, 6.58, 1)\n",
            "('7:54', 'BOS', '11:29', 'SFO', 'NZ 9503 ', '752', 'Non-Stop', 6, 35, 6.58, 1)\n",
            "('7:54', 'BOS', '11:29', 'SFO', 'UA 173 ', '752', 'Non-Stop', 6, 35, 6.58, None)\n",
            "('7:54', 'BOS', '11:29', 'SFO', 'US 6335 ', '752', 'Non-Stop', 6, 35, 6.58, 1)\n",
            "('6:25', 'BOS', '10:00', 'SFO', 'NZ 9501 ', '752', 'Non-Stop', 6, 35, 6.58, 1)\n"
          ]
        }
      ]
    },
    {
      "cell_type": "code",
      "source": [
        "# displays origin airports with capacity greater than 300 in reverse alphabetical order\n",
        "q = '''SELECT Origin \n",
        "FROM flights LEFT JOIN aircrafts on flights.Aircraft = aircrafts.Aircraft \n",
        "WHERE aircrafts.Seats > 300\n",
        "ORDER BY Origin DESC;'''\n",
        "for row in cursor.execute(q): print(row)"
      ],
      "metadata": {
        "colab": {
          "base_uri": "https://localhost:8080/"
        },
        "id": "nW4qYpuaUJd1",
        "outputId": "9a3e3be4-5729-4b56-c8d4-acfed9cd7fba"
      },
      "execution_count": 38,
      "outputs": [
        {
          "output_type": "stream",
          "name": "stdout",
          "text": [
            "('TPE',)\n",
            "('TPE',)\n",
            "('TPE',)\n",
            "('TPE',)\n",
            "('TPE',)\n",
            "('TPE',)\n",
            "('TPE',)\n",
            "('TPE',)\n",
            "('SYD',)\n",
            "('PVG',)\n",
            "('PVG',)\n",
            "('PVG',)\n",
            "('PEK',)\n",
            "('NRT',)\n",
            "('NRT',)\n",
            "('NRT',)\n",
            "('NRT',)\n",
            "('NRT',)\n",
            "('LHR',)\n",
            "('LHR',)\n",
            "('LHR',)\n",
            "('LHR',)\n",
            "('LHR',)\n",
            "('HKG',)\n",
            "('HKG',)\n",
            "('HKG',)\n",
            "('HKG',)\n",
            "('HKG',)\n",
            "('FRA',)\n",
            "('FRA',)\n",
            "('FRA',)\n",
            "('FRA',)\n",
            "('FRA',)\n",
            "('FRA',)\n"
          ]
        }
      ]
    },
    {
      "cell_type": "code",
      "source": [
        "# Finds the aircraft model and the respective Count of aircraft models, Maximum passengers,\n",
        "# and Sum of Passengers that travel from BOS on Airplanes whose model name has the number\n",
        "# “3” in it.\n",
        "q = '''SELECT flights.Aircraft, SUM(flights.Aircraft), MAX(Seats), SUM(Seats)\n",
        "FROM flights LEFT JOIN aircrafts ON flights.Aircraft = aircrafts.Aircraft\n",
        "WHERE flights.Origin = 'BOS' AND flights.Flight LIKE '%3%';'''\n",
        "for row in cursor.execute(q): print(row)"
      ],
      "metadata": {
        "colab": {
          "base_uri": "https://localhost:8080/"
        },
        "id": "EeM0Wkq0a7PH",
        "outputId": "ccc7c12e-9c3f-4bed-eb65-e791d23797c6"
      },
      "execution_count": 56,
      "outputs": [
        {
          "output_type": "stream",
          "name": "stdout",
          "text": [
            "('757', 6783, 182, 1638)\n"
          ]
        }
      ]
    }
  ]
}